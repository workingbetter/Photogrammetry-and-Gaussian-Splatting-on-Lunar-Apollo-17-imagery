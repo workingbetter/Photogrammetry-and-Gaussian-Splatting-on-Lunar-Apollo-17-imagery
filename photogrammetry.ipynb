{
  "nbformat": 4,
  "nbformat_minor": 0,
  "metadata": {
    "colab": {
      "provenance": [],
      "mount_file_id": "1YPAX9R49blHG8Y6otjS1adKQEnO5oRaX",
      "authorship_tag": "ABX9TyN2TqHuELy0fah6Z+fIj2Cl",
      "include_colab_link": true
    },
    "kernelspec": {
      "name": "python3",
      "display_name": "Python 3"
    },
    "language_info": {
      "name": "python"
    }
  },
  "cells": [
    {
      "cell_type": "markdown",
      "metadata": {
        "id": "view-in-github",
        "colab_type": "text"
      },
      "source": [
        "<a href=\"https://colab.research.google.com/github/workingbetter/Photogrammetry-and-Gaussian-Splatting-on-Lunar-Apollo-17-imagery/blob/main/photogrammetry.ipynb\" target=\"_parent\"><img src=\"https://colab.research.google.com/assets/colab-badge.svg\" alt=\"Open In Colab\"/></a>"
      ]
    },
    {
      "cell_type": "code",
      "execution_count": null,
      "metadata": {
        "collapsed": true,
        "id": "Nne9_jdeAKb2"
      },
      "outputs": [],
      "source": [
        "!pip install numpy opencv-python scikit-image open3d"
      ]
    },
    {
      "cell_type": "code",
      "source": [
        "import cv2\n",
        "import numpy as np\n",
        "from skimage.metrics import peak_signal_noise_ratio as psnr\n",
        "from skimage.metrics import structural_similarity as ssim\n",
        "\n",
        "# List of image names\n",
        "original_filenames = [\n",
        "    'AS17-137-20903HR', 'AS17-137-20904HR', 'AS17-137-20905HR',\n",
        "    'AS17-137-20906HR', 'AS17-137-20907HR', 'AS17-137-20908HR',\n",
        "    'AS17-137-20909HR', 'AS17-138-21030HR', 'AS17-138-21031HR',\n",
        "    'AS17-138-21032HR', 'AS17-138-21033HR', 'AS17-138-21034HR',\n",
        "    'AS17-138-21035HR', 'AS17-138-21036HR', 'AS17-138-21037HR'\n",
        "]\n",
        "\n",
        "# Build file paths\n",
        "original_images = [f'/content/drive/MyDrive/photogrammetry/PNGs/{name}.png' for name in original_filenames]\n",
        "rendered_images = [f'/content/drive/MyDrive/photogrammetry/rendered/image{i}.jpg' for i in range(1, 16)]\n",
        "\n",
        "# Store metrics\n",
        "psnr_values = []\n",
        "ssim_values = []\n",
        "\n",
        "# Loop over image pairs\n",
        "for orig_path, rend_path in zip(original_images, rendered_images):\n",
        "    original = cv2.imread(orig_path)\n",
        "    rendered = cv2.imread(rend_path)\n",
        "\n",
        "    if original is None:\n",
        "        print(f\" Failed to read original image: {orig_path}\")\n",
        "        continue\n",
        "    if rendered is None:\n",
        "        print(f\" Failed to read rendered image: {rend_path}\")\n",
        "        continue\n",
        "\n",
        "    # Resize rendered to match original if needed\n",
        "    if original.shape != rendered.shape:\n",
        "        print(f\"  Resizing rendered image: {rend_path} from {rendered.shape} to {original.shape}\")\n",
        "        rendered = cv2.resize(rendered, (original.shape[1], original.shape[0]))\n",
        "\n",
        "    # Convert to grayscale for SSIM\n",
        "    original_gray = cv2.cvtColor(original, cv2.COLOR_BGR2GRAY)\n",
        "    rendered_gray = cv2.cvtColor(rendered, cv2.COLOR_BGR2GRAY)\n",
        "\n",
        "    # Compute PSNR & SSIM\n",
        "    psnr_val = psnr(original, rendered)\n",
        "    ssim_val, _ = ssim(original_gray, rendered_gray, full=True)\n",
        "\n",
        "    psnr_values.append(psnr_val)\n",
        "    ssim_values.append(ssim_val)\n",
        "\n",
        "# Compute averages\n",
        "avg_psnr = np.mean(psnr_values)\n",
        "avg_ssim = np.mean(ssim_values)\n",
        "\n",
        "# Print results\n",
        "print(\"\\n Part A - Image Comparison (Averaged over 15 views):\")\n",
        "print(f\" Average PSNR: {avg_psnr:.2f} dB\")\n",
        "print(f\" Average SSIM: {avg_ssim:.3f}\")\n"
      ],
      "metadata": {
        "colab": {
          "base_uri": "https://localhost:8080/"
        },
        "id": "mvwOYUUgA3oO",
        "outputId": "49074e13-f806-4047-84bd-8bdcfc514bb7"
      },
      "execution_count": null,
      "outputs": [
        {
          "output_type": "stream",
          "name": "stdout",
          "text": [
            "  Resizing rendered image: /content/drive/MyDrive/photogrammetry/rendered/image8.jpg from (2364, 2340, 3) to (2345, 2340, 3)\n",
            "  Resizing rendered image: /content/drive/MyDrive/photogrammetry/rendered/image9.jpg from (2364, 2340, 3) to (2345, 2340, 3)\n",
            "  Resizing rendered image: /content/drive/MyDrive/photogrammetry/rendered/image10.jpg from (2364, 2340, 3) to (2345, 2340, 3)\n",
            "  Resizing rendered image: /content/drive/MyDrive/photogrammetry/rendered/image11.jpg from (2364, 2340, 3) to (2345, 2340, 3)\n",
            "  Resizing rendered image: /content/drive/MyDrive/photogrammetry/rendered/image12.jpg from (2364, 2340, 3) to (2345, 2340, 3)\n",
            "  Resizing rendered image: /content/drive/MyDrive/photogrammetry/rendered/image13.jpg from (2364, 2340, 3) to (2345, 2340, 3)\n",
            "  Resizing rendered image: /content/drive/MyDrive/photogrammetry/rendered/image14.jpg from (2364, 2340, 3) to (2345, 2340, 3)\n",
            "  Resizing rendered image: /content/drive/MyDrive/photogrammetry/rendered/image15.jpg from (2364, 2340, 3) to (2345, 2340, 3)\n",
            "\n",
            " Part A - Image Comparison (Averaged over 15 views):\n",
            " Average PSNR: 7.27 dB\n",
            " Average SSIM: 0.138\n"
          ]
        }
      ]
    }
  ]
}